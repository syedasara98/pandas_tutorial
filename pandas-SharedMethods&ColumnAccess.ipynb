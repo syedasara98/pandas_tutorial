{
 "cells": [
  {
   "cell_type": "code",
   "execution_count": 1,
   "metadata": {},
   "outputs": [],
   "source": [
    "import pandas as pd\n",
    "nba=pd.read_csv(\"nbasalaries.csv\")"
   ]
  },
  {
   "cell_type": "code",
   "execution_count": 5,
   "metadata": {},
   "outputs": [
    {
     "data": {
      "text/html": [
       "<div>\n",
       "<style scoped>\n",
       "    .dataframe tbody tr th:only-of-type {\n",
       "        vertical-align: middle;\n",
       "    }\n",
       "\n",
       "    .dataframe tbody tr th {\n",
       "        vertical-align: top;\n",
       "    }\n",
       "\n",
       "    .dataframe thead th {\n",
       "        text-align: right;\n",
       "    }\n",
       "</style>\n",
       "<table border=\"1\" class=\"dataframe\">\n",
       "  <thead>\n",
       "    <tr style=\"text-align: right;\">\n",
       "      <th></th>\n",
       "      <th>Unnamed: 0</th>\n",
       "      <th>RK</th>\n",
       "      <th>Player</th>\n",
       "      <th>TEAM</th>\n",
       "      <th>SALARY</th>\n",
       "    </tr>\n",
       "  </thead>\n",
       "  <tbody>\n",
       "    <tr>\n",
       "      <th>0</th>\n",
       "      <td>0</td>\n",
       "      <td>1</td>\n",
       "      <td>Kobe Bryant</td>\n",
       "      <td>Los Angeles Lakers</td>\n",
       "      <td>$25,000,000</td>\n",
       "    </tr>\n",
       "    <tr>\n",
       "      <th>1</th>\n",
       "      <td>1</td>\n",
       "      <td>2</td>\n",
       "      <td>LeBron James</td>\n",
       "      <td>Cleveland Cavaliers</td>\n",
       "      <td>$22,970,500</td>\n",
       "    </tr>\n",
       "    <tr>\n",
       "      <th>2</th>\n",
       "      <td>2</td>\n",
       "      <td>3</td>\n",
       "      <td>Carmelo Anthony</td>\n",
       "      <td>New York Knicks</td>\n",
       "      <td>$22,875,000</td>\n",
       "    </tr>\n",
       "    <tr>\n",
       "      <th>3</th>\n",
       "      <td>3</td>\n",
       "      <td>4</td>\n",
       "      <td>Dwight Howard</td>\n",
       "      <td>Houston Rockets</td>\n",
       "      <td>$22,359,364</td>\n",
       "    </tr>\n",
       "    <tr>\n",
       "      <th>4</th>\n",
       "      <td>4</td>\n",
       "      <td>5</td>\n",
       "      <td>Chris Bosh</td>\n",
       "      <td>Miami Heat</td>\n",
       "      <td>$22,192,730</td>\n",
       "    </tr>\n",
       "  </tbody>\n",
       "</table>\n",
       "</div>"
      ],
      "text/plain": [
       "   Unnamed: 0  RK           Player                 TEAM        SALARY\n",
       "0           0   1      Kobe Bryant   Los Angeles Lakers  $25,000,000 \n",
       "1           1   2     LeBron James  Cleveland Cavaliers  $22,970,500 \n",
       "2           2   3  Carmelo Anthony      New York Knicks  $22,875,000 \n",
       "3           3   4    Dwight Howard      Houston Rockets  $22,359,364 \n",
       "4           4   5       Chris Bosh           Miami Heat  $22,192,730 "
      ]
     },
     "execution_count": 5,
     "metadata": {},
     "output_type": "execute_result"
    }
   ],
   "source": [
    "nba\n",
    "nba.head()"
   ]
  },
  {
   "cell_type": "code",
   "execution_count": 3,
   "metadata": {},
   "outputs": [
    {
     "data": {
      "text/plain": [
       "Unnamed: 0                                                87990\n",
       "RK                                                        88410\n",
       "Player        Kobe BryantLeBron JamesCarmelo AnthonyDwight H...\n",
       "TEAM          Los Angeles LakersCleveland CavaliersNew York ...\n",
       "SALARY        $25,000,000 $22,970,500 $22,875,000 $22,359,36...\n",
       "dtype: object"
      ]
     },
     "execution_count": 3,
     "metadata": {},
     "output_type": "execute_result"
    }
   ],
   "source": [
    "nba.sum()"
   ]
  },
  {
   "cell_type": "code",
   "execution_count": 4,
   "metadata": {},
   "outputs": [
    {
     "data": {
      "text/plain": [
       "0        1\n",
       "1        3\n",
       "2        5\n",
       "3        7\n",
       "4        9\n",
       "      ... \n",
       "415    831\n",
       "416    833\n",
       "417    835\n",
       "418    837\n",
       "419    839\n",
       "Length: 420, dtype: int64"
      ]
     },
     "execution_count": 4,
     "metadata": {},
     "output_type": "execute_result"
    }
   ],
   "source": [
    "nba.sum(1)"
   ]
  },
  {
   "cell_type": "code",
   "execution_count": 10,
   "metadata": {},
   "outputs": [
    {
     "data": {
      "text/plain": [
       "pandas.core.series.Series"
      ]
     },
     "execution_count": 10,
     "metadata": {},
     "output_type": "execute_result"
    }
   ],
   "source": [
    "nba.Player.head()\n",
    "type(nba.Player)"
   ]
  },
  {
   "cell_type": "code",
   "execution_count": 14,
   "metadata": {},
   "outputs": [
    {
     "data": {
      "text/html": [
       "<div>\n",
       "<style scoped>\n",
       "    .dataframe tbody tr th:only-of-type {\n",
       "        vertical-align: middle;\n",
       "    }\n",
       "\n",
       "    .dataframe tbody tr th {\n",
       "        vertical-align: top;\n",
       "    }\n",
       "\n",
       "    .dataframe thead th {\n",
       "        text-align: right;\n",
       "    }\n",
       "</style>\n",
       "<table border=\"1\" class=\"dataframe\">\n",
       "  <thead>\n",
       "    <tr style=\"text-align: right;\">\n",
       "      <th></th>\n",
       "      <th>Player</th>\n",
       "      <th>TEAM</th>\n",
       "    </tr>\n",
       "  </thead>\n",
       "  <tbody>\n",
       "    <tr>\n",
       "      <th>0</th>\n",
       "      <td>Kobe Bryant</td>\n",
       "      <td>Los Angeles Lakers</td>\n",
       "    </tr>\n",
       "    <tr>\n",
       "      <th>1</th>\n",
       "      <td>LeBron James</td>\n",
       "      <td>Cleveland Cavaliers</td>\n",
       "    </tr>\n",
       "    <tr>\n",
       "      <th>2</th>\n",
       "      <td>Carmelo Anthony</td>\n",
       "      <td>New York Knicks</td>\n",
       "    </tr>\n",
       "    <tr>\n",
       "      <th>3</th>\n",
       "      <td>Dwight Howard</td>\n",
       "      <td>Houston Rockets</td>\n",
       "    </tr>\n",
       "    <tr>\n",
       "      <th>4</th>\n",
       "      <td>Chris Bosh</td>\n",
       "      <td>Miami Heat</td>\n",
       "    </tr>\n",
       "    <tr>\n",
       "      <th>...</th>\n",
       "      <td>...</td>\n",
       "      <td>...</td>\n",
       "    </tr>\n",
       "    <tr>\n",
       "      <th>415</th>\n",
       "      <td>Orlando Johnson</td>\n",
       "      <td>Phoenix Suns</td>\n",
       "    </tr>\n",
       "    <tr>\n",
       "      <th>416</th>\n",
       "      <td>Phil Pressey</td>\n",
       "      <td>Phoenix Suns</td>\n",
       "    </tr>\n",
       "    <tr>\n",
       "      <th>417</th>\n",
       "      <td>Elliot Williams</td>\n",
       "      <td>Memphis Grizzlies</td>\n",
       "    </tr>\n",
       "    <tr>\n",
       "      <th>418</th>\n",
       "      <td>Cory Jefferson</td>\n",
       "      <td>Phoenix Suns</td>\n",
       "    </tr>\n",
       "    <tr>\n",
       "      <th>419</th>\n",
       "      <td>Thanasis Antetokounmpo</td>\n",
       "      <td>New York Knicks</td>\n",
       "    </tr>\n",
       "  </tbody>\n",
       "</table>\n",
       "<p>420 rows × 2 columns</p>\n",
       "</div>"
      ],
      "text/plain": [
       "                     Player                 TEAM\n",
       "0               Kobe Bryant   Los Angeles Lakers\n",
       "1              LeBron James  Cleveland Cavaliers\n",
       "2           Carmelo Anthony      New York Knicks\n",
       "3             Dwight Howard      Houston Rockets\n",
       "4                Chris Bosh           Miami Heat\n",
       "..                      ...                  ...\n",
       "415         Orlando Johnson         Phoenix Suns\n",
       "416            Phil Pressey         Phoenix Suns\n",
       "417         Elliot Williams    Memphis Grizzlies\n",
       "418          Cory Jefferson         Phoenix Suns\n",
       "419  Thanasis Antetokounmpo      New York Knicks\n",
       "\n",
       "[420 rows x 2 columns]"
      ]
     },
     "execution_count": 14,
     "metadata": {},
     "output_type": "execute_result"
    }
   ],
   "source": [
    "nba[['Player','TEAM']]"
   ]
  },
  {
   "cell_type": "code",
   "execution_count": null,
   "metadata": {},
   "outputs": [],
   "source": []
  }
 ],
 "metadata": {
  "kernelspec": {
   "display_name": "Python 3",
   "language": "python",
   "name": "python3"
  },
  "language_info": {
   "codemirror_mode": {
    "name": "ipython",
    "version": 3
   },
   "file_extension": ".py",
   "mimetype": "text/x-python",
   "name": "python",
   "nbconvert_exporter": "python",
   "pygments_lexer": "ipython3",
   "version": "3.7.0"
  }
 },
 "nbformat": 4,
 "nbformat_minor": 4
}

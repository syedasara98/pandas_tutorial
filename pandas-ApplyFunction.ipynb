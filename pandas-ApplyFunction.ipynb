{
 "cells": [
  {
   "cell_type": "code",
   "execution_count": 4,
   "metadata": {},
   "outputs": [
    {
     "data": {
      "text/plain": [
       "0      1\n",
       "1      2\n",
       "2      3\n",
       "3      4\n",
       "4      6\n",
       "5      7\n",
       "6      8\n",
       "7      9\n",
       "8      5\n",
       "9     90\n",
       "10    12\n",
       "11    44\n",
       "12    56\n",
       "Name: Numbers, dtype: int64"
      ]
     },
     "execution_count": 4,
     "metadata": {},
     "output_type": "execute_result"
    }
   ],
   "source": [
    "import pandas as pd\n",
    "num=pd.read_csv(\"numbers.csv\",squeeze=True)\n",
    "num"
   ]
  },
  {
   "cell_type": "code",
   "execution_count": 5,
   "metadata": {},
   "outputs": [
    {
     "data": {
      "text/plain": [
       "0               OK\n",
       "1               OK\n",
       "2               OK\n",
       "3               OK\n",
       "4     Satisfactory\n",
       "5     Satisfactory\n",
       "6     Satisfactory\n",
       "7     Satisfactory\n",
       "8             Best\n",
       "9             Best\n",
       "10            Best\n",
       "11            Best\n",
       "12            Best\n",
       "Name: Numbers, dtype: object"
      ]
     },
     "execution_count": 5,
     "metadata": {},
     "output_type": "execute_result"
    }
   ],
   "source": [
    "def classify_values(number):\n",
    "    if number<5:\n",
    "        return \"OK\"\n",
    "    elif number>5 and number<10:\n",
    "        return \"Satisfactory\"\n",
    "    else:\n",
    "        return \"Best\"\n",
    "    \n",
    "num.apply(classify_values)\n"
   ]
  },
  {
   "cell_type": "code",
   "execution_count": 6,
   "metadata": {},
   "outputs": [
    {
     "data": {
      "text/plain": [
       "0      2\n",
       "1      3\n",
       "2      4\n",
       "3      5\n",
       "4      7\n",
       "5      8\n",
       "6      9\n",
       "7     10\n",
       "8      6\n",
       "9     91\n",
       "10    13\n",
       "11    45\n",
       "12    57\n",
       "Name: Numbers, dtype: int64"
      ]
     },
     "execution_count": 6,
     "metadata": {},
     "output_type": "execute_result"
    }
   ],
   "source": [
    "num.apply(lambda increment: increment+1)"
   ]
  },
  {
   "cell_type": "code",
   "execution_count": null,
   "metadata": {},
   "outputs": [],
   "source": []
  }
 ],
 "metadata": {
  "kernelspec": {
   "display_name": "Python 3",
   "language": "python",
   "name": "python3"
  },
  "language_info": {
   "codemirror_mode": {
    "name": "ipython",
    "version": 3
   },
   "file_extension": ".py",
   "mimetype": "text/x-python",
   "name": "python",
   "nbconvert_exporter": "python",
   "pygments_lexer": "ipython3",
   "version": "3.7.0"
  }
 },
 "nbformat": 4,
 "nbformat_minor": 4
}

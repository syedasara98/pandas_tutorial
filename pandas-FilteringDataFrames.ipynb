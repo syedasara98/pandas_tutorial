{
 "cells": [
  {
   "cell_type": "code",
   "execution_count": 22,
   "metadata": {},
   "outputs": [
    {
     "data": {
      "text/html": [
       "<div>\n",
       "<style scoped>\n",
       "    .dataframe tbody tr th:only-of-type {\n",
       "        vertical-align: middle;\n",
       "    }\n",
       "\n",
       "    .dataframe tbody tr th {\n",
       "        vertical-align: top;\n",
       "    }\n",
       "\n",
       "    .dataframe thead th {\n",
       "        text-align: right;\n",
       "    }\n",
       "</style>\n",
       "<table border=\"1\" class=\"dataframe\">\n",
       "  <thead>\n",
       "    <tr style=\"text-align: right;\">\n",
       "      <th></th>\n",
       "      <th>Name</th>\n",
       "      <th>Department</th>\n",
       "      <th>Manager</th>\n",
       "      <th>Salary</th>\n",
       "      <th>Star_date</th>\n",
       "      <th>Last Login Time</th>\n",
       "      <th>Senior Management</th>\n",
       "      <th>Gender</th>\n",
       "    </tr>\n",
       "  </thead>\n",
       "  <tbody>\n",
       "    <tr>\n",
       "      <th>0</th>\n",
       "      <td>Robin Hood</td>\n",
       "      <td>NaN</td>\n",
       "      <td>NaN</td>\n",
       "      <td>200</td>\n",
       "      <td>8/12/1998</td>\n",
       "      <td>12:45 PM</td>\n",
       "      <td>True</td>\n",
       "      <td>male</td>\n",
       "    </tr>\n",
       "    <tr>\n",
       "      <th>1</th>\n",
       "      <td>Arsene Wenger</td>\n",
       "      <td>Bar</td>\n",
       "      <td>Friar Tuck</td>\n",
       "      <td>50</td>\n",
       "      <td>7/11/1999</td>\n",
       "      <td>13:10 AM</td>\n",
       "      <td>False</td>\n",
       "      <td>female</td>\n",
       "    </tr>\n",
       "    <tr>\n",
       "      <th>2</th>\n",
       "      <td>Friar Tuck</td>\n",
       "      <td>Foo</td>\n",
       "      <td>Robin Hood</td>\n",
       "      <td>100</td>\n",
       "      <td>6/4/1996</td>\n",
       "      <td>15:09 PM</td>\n",
       "      <td>False</td>\n",
       "      <td>male</td>\n",
       "    </tr>\n",
       "    <tr>\n",
       "      <th>3</th>\n",
       "      <td>Little John</td>\n",
       "      <td>Foo</td>\n",
       "      <td>Robin Hood</td>\n",
       "      <td>100</td>\n",
       "      <td>5/3/1996</td>\n",
       "      <td>16:19 AM</td>\n",
       "      <td>True</td>\n",
       "      <td>male</td>\n",
       "    </tr>\n",
       "    <tr>\n",
       "      <th>4</th>\n",
       "      <td>Sam Allardyce</td>\n",
       "      <td>NaN</td>\n",
       "      <td>NaN</td>\n",
       "      <td>250</td>\n",
       "      <td>4/6/1997</td>\n",
       "      <td>13:10 PM</td>\n",
       "      <td>True</td>\n",
       "      <td>female</td>\n",
       "    </tr>\n",
       "  </tbody>\n",
       "</table>\n",
       "</div>"
      ],
      "text/plain": [
       "            Name Department     Manager  Salary  Star_date Last Login Time  \\\n",
       "0     Robin Hood        NaN         NaN     200  8/12/1998        12:45 PM   \n",
       "1  Arsene Wenger        Bar  Friar Tuck      50  7/11/1999        13:10 AM   \n",
       "2     Friar Tuck        Foo  Robin Hood     100   6/4/1996        15:09 PM   \n",
       "3    Little John        Foo  Robin Hood     100   5/3/1996        16:19 AM   \n",
       "4  Sam Allardyce        NaN         NaN     250   4/6/1997        13:10 PM   \n",
       "\n",
       "   Senior Management  Gender  \n",
       "0               True    male  \n",
       "1              False  female  \n",
       "2              False    male  \n",
       "3               True    male  \n",
       "4               True  female  "
      ]
     },
     "execution_count": 22,
     "metadata": {},
     "output_type": "execute_result"
    }
   ],
   "source": [
    "import pandas as pd\n",
    "df=pd.read_csv(\"employees.csv\")\n",
    "df.head()"
   ]
  },
  {
   "cell_type": "code",
   "execution_count": 23,
   "metadata": {},
   "outputs": [
    {
     "name": "stdout",
     "output_type": "stream",
     "text": [
      "<class 'pandas.core.frame.DataFrame'>\n",
      "RangeIndex: 6 entries, 0 to 5\n",
      "Data columns (total 8 columns):\n",
      " #   Column             Non-Null Count  Dtype \n",
      "---  ------             --------------  ----- \n",
      " 0   Name               6 non-null      object\n",
      " 1   Department         4 non-null      object\n",
      " 2   Manager            4 non-null      object\n",
      " 3   Salary             6 non-null      int64 \n",
      " 4   Star_date          6 non-null      object\n",
      " 5   Last Login Time    6 non-null      object\n",
      " 6   Senior Management  6 non-null      bool  \n",
      " 7   Gender             6 non-null      object\n",
      "dtypes: bool(1), int64(1), object(6)\n",
      "memory usage: 262.0+ bytes\n"
     ]
    }
   ],
   "source": [
    "df.info()"
   ]
  },
  {
   "cell_type": "code",
   "execution_count": 15,
   "metadata": {},
   "outputs": [
    {
     "data": {
      "text/plain": [
       "0    8/12/1998\n",
       "1    7/11/1999\n",
       "2     6/4/1996\n",
       "3     5/3/1996\n",
       "4     4/6/1997\n",
       "5     5/6/1998\n",
       "Name: Star_date, dtype: object"
      ]
     },
     "execution_count": 15,
     "metadata": {},
     "output_type": "execute_result"
    }
   ],
   "source": [
    "df['Star_date']"
   ]
  },
  {
   "cell_type": "code",
   "execution_count": 16,
   "metadata": {},
   "outputs": [
    {
     "data": {
      "text/plain": [
       "0   1998-08-12\n",
       "1   1999-07-11\n",
       "2   1996-06-04\n",
       "3   1996-05-03\n",
       "4   1997-04-06\n",
       "5   1998-05-06\n",
       "Name: Star_date, dtype: datetime64[ns]"
      ]
     },
     "execution_count": 16,
     "metadata": {},
     "output_type": "execute_result"
    }
   ],
   "source": [
    "pd.to_datetime(df['Star_date'])"
   ]
  },
  {
   "cell_type": "code",
   "execution_count": 17,
   "metadata": {},
   "outputs": [],
   "source": [
    "df['Star_date']=pd.to_datetime(df['Star_date'])"
   ]
  },
  {
   "cell_type": "code",
   "execution_count": 18,
   "metadata": {},
   "outputs": [
    {
     "data": {
      "text/plain": [
       "0       12:45 PM\n",
       "1       13:10 AM\n",
       "2       15:09 PM\n",
       "3    12:45:00 AM\n",
       "4       13:10 PM\n",
       "5       13:10 AM\n",
       "Name: Last Login Time, dtype: object"
      ]
     },
     "execution_count": 18,
     "metadata": {},
     "output_type": "execute_result"
    }
   ],
   "source": [
    "df['Last Login Time']"
   ]
  },
  {
   "cell_type": "code",
   "execution_count": 28,
   "metadata": {},
   "outputs": [
    {
     "data": {
      "text/plain": [
       "0      male\n",
       "1    female\n",
       "2      male\n",
       "3      male\n",
       "4    female\n",
       "5      male\n",
       "Name: Gender, dtype: category\n",
       "Categories (2, object): [female, male]"
      ]
     },
     "execution_count": 28,
     "metadata": {},
     "output_type": "execute_result"
    }
   ],
   "source": [
    "df[\"Gender\"].astype(\"category\")"
   ]
  },
  {
   "cell_type": "code",
   "execution_count": 31,
   "metadata": {},
   "outputs": [
    {
     "name": "stdout",
     "output_type": "stream",
     "text": [
      "<class 'pandas.core.frame.DataFrame'>\n",
      "RangeIndex: 6 entries, 0 to 5\n",
      "Data columns (total 8 columns):\n",
      " #   Column             Non-Null Count  Dtype         \n",
      "---  ------             --------------  -----         \n",
      " 0   Name               6 non-null      object        \n",
      " 1   Department         4 non-null      object        \n",
      " 2   Manager            4 non-null      object        \n",
      " 3   Salary             6 non-null      int64         \n",
      " 4   Star_date          6 non-null      datetime64[ns]\n",
      " 5   Last Login Time    6 non-null      object        \n",
      " 6   Senior Management  6 non-null      bool          \n",
      " 7   Gender             6 non-null      object        \n",
      "dtypes: bool(1), datetime64[ns](1), int64(1), object(5)\n",
      "memory usage: 286.0+ bytes\n"
     ]
    }
   ],
   "source": [
    "import pandas as pd\n",
    "df=pd.read_csv(\"employees.csv\", parse_dates=['Star_date','Last Login Time'])\n",
    "df.head()\n",
    "df.info()"
   ]
  },
  {
   "cell_type": "code",
   "execution_count": null,
   "metadata": {},
   "outputs": [],
   "source": []
  }
 ],
 "metadata": {
  "kernelspec": {
   "display_name": "Python 3",
   "language": "python",
   "name": "python3"
  },
  "language_info": {
   "codemirror_mode": {
    "name": "ipython",
    "version": 3
   },
   "file_extension": ".py",
   "mimetype": "text/x-python",
   "name": "python",
   "nbconvert_exporter": "python",
   "pygments_lexer": "ipython3",
   "version": "3.7.0"
  }
 },
 "nbformat": 4,
 "nbformat_minor": 4
}
